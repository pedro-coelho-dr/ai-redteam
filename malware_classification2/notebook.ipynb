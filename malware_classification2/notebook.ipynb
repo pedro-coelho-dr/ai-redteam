{
 "cells": [
  {
   "cell_type": "markdown",
   "id": "20dd3be2",
   "metadata": {},
   "source": [
    "# 0"
   ]
  },
  {
   "cell_type": "code",
   "execution_count": 2,
   "id": "ece2b12c",
   "metadata": {},
   "outputs": [
    {
     "name": "stdout",
     "output_type": "stream",
     "text": [
      "Train dataset: (25000, 2)\n",
      "                                                text  label\n",
      "0  Bromwell High is a cartoon comedy. It ran at t...      1\n",
      "1  Homelessness (or Houselessness as George Carli...      1\n",
      "2  Brilliant over-acting by Lesley Ann Warren. Be...      1\n",
      "\n",
      "Test dataset: (25000, 2)\n",
      "                                                text  label\n",
      "0  I went and saw this movie last night after bei...      1\n",
      "1  Actor turned director Bill Paxton follows up h...      1\n",
      "2  As a recreational golfer with some knowledge o...      1\n"
     ]
    }
   ],
   "source": [
    "import pandas as pd\n",
    "import json\n",
    "\n",
    "train_path = \"data/train.json\"\n",
    "test_path = \"data/test.json\"\n",
    "\n",
    "with open(train_path, \"r\", encoding=\"utf-8\") as f:\n",
    "    train_data = json.load(f)\n",
    "\n",
    "with open(test_path, \"r\", encoding=\"utf-8\") as f:\n",
    "    test_data = json.load(f)\n",
    "\n",
    "df_train = pd.DataFrame(train_data)\n",
    "df_test = pd.DataFrame(test_data)\n",
    "\n",
    "print(\"Train dataset:\", df_train.shape)\n",
    "print(df_train.head(3))\n",
    "print(\"\\nTest dataset:\", df_test.shape)\n",
    "print(df_test.head(3))"
   ]
  },
  {
   "cell_type": "code",
   "execution_count": 3,
   "id": "fabb606c",
   "metadata": {},
   "outputs": [
    {
     "name": "stderr",
     "output_type": "stream",
     "text": [
      "[nltk_data] Downloading package punkt to /home/corisco/nltk_data...\n",
      "[nltk_data]   Package punkt is already up-to-date!\n",
      "[nltk_data] Downloading package stopwords to\n",
      "[nltk_data]     /home/corisco/nltk_data...\n",
      "[nltk_data]   Package stopwords is already up-to-date!\n"
     ]
    }
   ],
   "source": [
    "import re\n",
    "import nltk\n",
    "from nltk.corpus import stopwords\n",
    "from nltk.stem import PorterStemmer\n",
    "from nltk.tokenize import word_tokenize\n",
    "\n",
    "\n",
    "nltk.download('punkt')\n",
    "nltk.download('stopwords')\n",
    "\n",
    "\n",
    "stop_words = set(stopwords.words('english'))\n",
    "stemmer = PorterStemmer()\n",
    "\n",
    "def preprocess_review(text):\n",
    "    text = text.lower()\n",
    "    text = re.sub(r\"[^a-z\\s]\", \"\", text)\n",
    "    tokens = word_tokenize(text)\n",
    "    tokens = [t for t in tokens if t not in stop_words]\n",
    "    tokens = [stemmer.stem(t) for t in tokens]\n",
    "\n",
    "    return \" \".join(tokens)\n"
   ]
  },
  {
   "cell_type": "code",
   "execution_count": 4,
   "id": "b5e432a4",
   "metadata": {},
   "outputs": [],
   "source": [
    "df_train[\"clean_text\"] = df_train[\"text\"].apply(preprocess_review)\n",
    "df_test[\"clean_text\"] = df_test[\"text\"].apply(preprocess_review)\n"
   ]
  },
  {
   "cell_type": "markdown",
   "id": "e2b61d3e",
   "metadata": {},
   "source": [
    "# 1"
   ]
  },
  {
   "cell_type": "code",
   "execution_count": 29,
   "id": "95fe2e8a",
   "metadata": {},
   "outputs": [
    {
     "name": "stdout",
     "output_type": "stream",
     "text": [
      "[+] Starting grid search...\n",
      "Fitting 5 folds for each of 90 candidates, totalling 450 fits\n"
     ]
    },
    {
     "ename": "KeyboardInterrupt",
     "evalue": "",
     "output_type": "error",
     "traceback": [
      "\u001b[31m---------------------------------------------------------------------------\u001b[39m",
      "\u001b[31mKeyboardInterrupt\u001b[39m                         Traceback (most recent call last)",
      "\u001b[36mCell\u001b[39m\u001b[36m \u001b[39m\u001b[32mIn[29]\u001b[39m\u001b[32m, line 40\u001b[39m\n\u001b[32m     38\u001b[39m \u001b[38;5;66;03m# === Fit ===\u001b[39;00m\n\u001b[32m     39\u001b[39m \u001b[38;5;28mprint\u001b[39m(\u001b[33m\"\u001b[39m\u001b[33m[+] Starting grid search...\u001b[39m\u001b[33m\"\u001b[39m)\n\u001b[32m---> \u001b[39m\u001b[32m40\u001b[39m grid_search.fit(X_train, y_train)\n\u001b[32m     41\u001b[39m \u001b[38;5;28mprint\u001b[39m(\u001b[33m\"\u001b[39m\u001b[33m[+] Grid search completed.\u001b[39m\u001b[33m\"\u001b[39m)\n\u001b[32m     43\u001b[39m \u001b[38;5;66;03m# === Results ===\u001b[39;00m\n",
      "\u001b[36mFile \u001b[39m\u001b[32m~/miniconda3/envs/ai/lib/python3.11/site-packages/sklearn/base.py:1363\u001b[39m, in \u001b[36m_fit_context.<locals>.decorator.<locals>.wrapper\u001b[39m\u001b[34m(estimator, *args, **kwargs)\u001b[39m\n\u001b[32m   1356\u001b[39m     estimator._validate_params()\n\u001b[32m   1358\u001b[39m \u001b[38;5;28;01mwith\u001b[39;00m config_context(\n\u001b[32m   1359\u001b[39m     skip_parameter_validation=(\n\u001b[32m   1360\u001b[39m         prefer_skip_nested_validation \u001b[38;5;129;01mor\u001b[39;00m global_skip_validation\n\u001b[32m   1361\u001b[39m     )\n\u001b[32m   1362\u001b[39m ):\n\u001b[32m-> \u001b[39m\u001b[32m1363\u001b[39m     \u001b[38;5;28;01mreturn\u001b[39;00m fit_method(estimator, *args, **kwargs)\n",
      "\u001b[36mFile \u001b[39m\u001b[32m~/miniconda3/envs/ai/lib/python3.11/site-packages/sklearn/model_selection/_search.py:1051\u001b[39m, in \u001b[36mBaseSearchCV.fit\u001b[39m\u001b[34m(self, X, y, **params)\u001b[39m\n\u001b[32m   1045\u001b[39m     results = \u001b[38;5;28mself\u001b[39m._format_results(\n\u001b[32m   1046\u001b[39m         all_candidate_params, n_splits, all_out, all_more_results\n\u001b[32m   1047\u001b[39m     )\n\u001b[32m   1049\u001b[39m     \u001b[38;5;28;01mreturn\u001b[39;00m results\n\u001b[32m-> \u001b[39m\u001b[32m1051\u001b[39m \u001b[38;5;28mself\u001b[39m._run_search(evaluate_candidates)\n\u001b[32m   1053\u001b[39m \u001b[38;5;66;03m# multimetric is determined here because in the case of a callable\u001b[39;00m\n\u001b[32m   1054\u001b[39m \u001b[38;5;66;03m# self.scoring the return type is only known after calling\u001b[39;00m\n\u001b[32m   1055\u001b[39m first_test_score = all_out[\u001b[32m0\u001b[39m][\u001b[33m\"\u001b[39m\u001b[33mtest_scores\u001b[39m\u001b[33m\"\u001b[39m]\n",
      "\u001b[36mFile \u001b[39m\u001b[32m~/miniconda3/envs/ai/lib/python3.11/site-packages/sklearn/model_selection/_search.py:1605\u001b[39m, in \u001b[36mGridSearchCV._run_search\u001b[39m\u001b[34m(self, evaluate_candidates)\u001b[39m\n\u001b[32m   1603\u001b[39m \u001b[38;5;28;01mdef\u001b[39;00m\u001b[38;5;250m \u001b[39m\u001b[34m_run_search\u001b[39m(\u001b[38;5;28mself\u001b[39m, evaluate_candidates):\n\u001b[32m   1604\u001b[39m \u001b[38;5;250m    \u001b[39m\u001b[33;03m\"\"\"Search all candidates in param_grid\"\"\"\u001b[39;00m\n\u001b[32m-> \u001b[39m\u001b[32m1605\u001b[39m     evaluate_candidates(ParameterGrid(\u001b[38;5;28mself\u001b[39m.param_grid))\n",
      "\u001b[36mFile \u001b[39m\u001b[32m~/miniconda3/envs/ai/lib/python3.11/site-packages/sklearn/model_selection/_search.py:997\u001b[39m, in \u001b[36mBaseSearchCV.fit.<locals>.evaluate_candidates\u001b[39m\u001b[34m(candidate_params, cv, more_results)\u001b[39m\n\u001b[32m    989\u001b[39m \u001b[38;5;28;01mif\u001b[39;00m \u001b[38;5;28mself\u001b[39m.verbose > \u001b[32m0\u001b[39m:\n\u001b[32m    990\u001b[39m     \u001b[38;5;28mprint\u001b[39m(\n\u001b[32m    991\u001b[39m         \u001b[33m\"\u001b[39m\u001b[33mFitting \u001b[39m\u001b[38;5;132;01m{0}\u001b[39;00m\u001b[33m folds for each of \u001b[39m\u001b[38;5;132;01m{1}\u001b[39;00m\u001b[33m candidates,\u001b[39m\u001b[33m\"\u001b[39m\n\u001b[32m    992\u001b[39m         \u001b[33m\"\u001b[39m\u001b[33m totalling \u001b[39m\u001b[38;5;132;01m{2}\u001b[39;00m\u001b[33m fits\u001b[39m\u001b[33m\"\u001b[39m.format(\n\u001b[32m    993\u001b[39m             n_splits, n_candidates, n_candidates * n_splits\n\u001b[32m    994\u001b[39m         )\n\u001b[32m    995\u001b[39m     )\n\u001b[32m--> \u001b[39m\u001b[32m997\u001b[39m out = parallel(\n\u001b[32m    998\u001b[39m     delayed(_fit_and_score)(\n\u001b[32m    999\u001b[39m         clone(base_estimator),\n\u001b[32m   1000\u001b[39m         X,\n\u001b[32m   1001\u001b[39m         y,\n\u001b[32m   1002\u001b[39m         train=train,\n\u001b[32m   1003\u001b[39m         test=test,\n\u001b[32m   1004\u001b[39m         parameters=parameters,\n\u001b[32m   1005\u001b[39m         split_progress=(split_idx, n_splits),\n\u001b[32m   1006\u001b[39m         candidate_progress=(cand_idx, n_candidates),\n\u001b[32m   1007\u001b[39m         **fit_and_score_kwargs,\n\u001b[32m   1008\u001b[39m     )\n\u001b[32m   1009\u001b[39m     \u001b[38;5;28;01mfor\u001b[39;00m (cand_idx, parameters), (split_idx, (train, test)) \u001b[38;5;129;01min\u001b[39;00m product(\n\u001b[32m   1010\u001b[39m         \u001b[38;5;28menumerate\u001b[39m(candidate_params),\n\u001b[32m   1011\u001b[39m         \u001b[38;5;28menumerate\u001b[39m(cv.split(X, y, **routed_params.splitter.split)),\n\u001b[32m   1012\u001b[39m     )\n\u001b[32m   1013\u001b[39m )\n\u001b[32m   1015\u001b[39m \u001b[38;5;28;01mif\u001b[39;00m \u001b[38;5;28mlen\u001b[39m(out) < \u001b[32m1\u001b[39m:\n\u001b[32m   1016\u001b[39m     \u001b[38;5;28;01mraise\u001b[39;00m \u001b[38;5;167;01mValueError\u001b[39;00m(\n\u001b[32m   1017\u001b[39m         \u001b[33m\"\u001b[39m\u001b[33mNo fits were performed. \u001b[39m\u001b[33m\"\u001b[39m\n\u001b[32m   1018\u001b[39m         \u001b[33m\"\u001b[39m\u001b[33mWas the CV iterator empty? \u001b[39m\u001b[33m\"\u001b[39m\n\u001b[32m   1019\u001b[39m         \u001b[33m\"\u001b[39m\u001b[33mWere there no candidates?\u001b[39m\u001b[33m\"\u001b[39m\n\u001b[32m   1020\u001b[39m     )\n",
      "\u001b[36mFile \u001b[39m\u001b[32m~/miniconda3/envs/ai/lib/python3.11/site-packages/sklearn/utils/parallel.py:82\u001b[39m, in \u001b[36mParallel.__call__\u001b[39m\u001b[34m(self, iterable)\u001b[39m\n\u001b[32m     73\u001b[39m warning_filters = warnings.filters\n\u001b[32m     74\u001b[39m iterable_with_config_and_warning_filters = (\n\u001b[32m     75\u001b[39m     (\n\u001b[32m     76\u001b[39m         _with_config_and_warning_filters(delayed_func, config, warning_filters),\n\u001b[32m   (...)\u001b[39m\u001b[32m     80\u001b[39m     \u001b[38;5;28;01mfor\u001b[39;00m delayed_func, args, kwargs \u001b[38;5;129;01min\u001b[39;00m iterable\n\u001b[32m     81\u001b[39m )\n\u001b[32m---> \u001b[39m\u001b[32m82\u001b[39m \u001b[38;5;28;01mreturn\u001b[39;00m \u001b[38;5;28msuper\u001b[39m().\u001b[34m__call__\u001b[39m(iterable_with_config_and_warning_filters)\n",
      "\u001b[36mFile \u001b[39m\u001b[32m~/miniconda3/envs/ai/lib/python3.11/site-packages/joblib/parallel.py:2072\u001b[39m, in \u001b[36mParallel.__call__\u001b[39m\u001b[34m(self, iterable)\u001b[39m\n\u001b[32m   2066\u001b[39m \u001b[38;5;66;03m# The first item from the output is blank, but it makes the interpreter\u001b[39;00m\n\u001b[32m   2067\u001b[39m \u001b[38;5;66;03m# progress until it enters the Try/Except block of the generator and\u001b[39;00m\n\u001b[32m   2068\u001b[39m \u001b[38;5;66;03m# reaches the first `yield` statement. This starts the asynchronous\u001b[39;00m\n\u001b[32m   2069\u001b[39m \u001b[38;5;66;03m# dispatch of the tasks to the workers.\u001b[39;00m\n\u001b[32m   2070\u001b[39m \u001b[38;5;28mnext\u001b[39m(output)\n\u001b[32m-> \u001b[39m\u001b[32m2072\u001b[39m \u001b[38;5;28;01mreturn\u001b[39;00m output \u001b[38;5;28;01mif\u001b[39;00m \u001b[38;5;28mself\u001b[39m.return_generator \u001b[38;5;28;01melse\u001b[39;00m \u001b[38;5;28mlist\u001b[39m(output)\n",
      "\u001b[36mFile \u001b[39m\u001b[32m~/miniconda3/envs/ai/lib/python3.11/site-packages/joblib/parallel.py:1682\u001b[39m, in \u001b[36mParallel._get_outputs\u001b[39m\u001b[34m(self, iterator, pre_dispatch)\u001b[39m\n\u001b[32m   1679\u001b[39m     \u001b[38;5;28;01myield\u001b[39;00m\n\u001b[32m   1681\u001b[39m     \u001b[38;5;28;01mwith\u001b[39;00m \u001b[38;5;28mself\u001b[39m._backend.retrieval_context():\n\u001b[32m-> \u001b[39m\u001b[32m1682\u001b[39m         \u001b[38;5;28;01myield from\u001b[39;00m \u001b[38;5;28mself\u001b[39m._retrieve()\n\u001b[32m   1684\u001b[39m \u001b[38;5;28;01mexcept\u001b[39;00m \u001b[38;5;167;01mGeneratorExit\u001b[39;00m:\n\u001b[32m   1685\u001b[39m     \u001b[38;5;66;03m# The generator has been garbage collected before being fully\u001b[39;00m\n\u001b[32m   1686\u001b[39m     \u001b[38;5;66;03m# consumed. This aborts the remaining tasks if possible and warn\u001b[39;00m\n\u001b[32m   1687\u001b[39m     \u001b[38;5;66;03m# the user if necessary.\u001b[39;00m\n\u001b[32m   1688\u001b[39m     \u001b[38;5;28mself\u001b[39m._exception = \u001b[38;5;28;01mTrue\u001b[39;00m\n",
      "\u001b[36mFile \u001b[39m\u001b[32m~/miniconda3/envs/ai/lib/python3.11/site-packages/joblib/parallel.py:1800\u001b[39m, in \u001b[36mParallel._retrieve\u001b[39m\u001b[34m(self)\u001b[39m\n\u001b[32m   1789\u001b[39m \u001b[38;5;28;01mif\u001b[39;00m \u001b[38;5;28mself\u001b[39m.return_ordered:\n\u001b[32m   1790\u001b[39m     \u001b[38;5;66;03m# Case ordered: wait for completion (or error) of the next job\u001b[39;00m\n\u001b[32m   1791\u001b[39m     \u001b[38;5;66;03m# that have been dispatched and not retrieved yet. If no job\u001b[39;00m\n\u001b[32m   (...)\u001b[39m\u001b[32m   1795\u001b[39m     \u001b[38;5;66;03m# control only have to be done on the amount of time the next\u001b[39;00m\n\u001b[32m   1796\u001b[39m     \u001b[38;5;66;03m# dispatched job is pending.\u001b[39;00m\n\u001b[32m   1797\u001b[39m     \u001b[38;5;28;01mif\u001b[39;00m (nb_jobs == \u001b[32m0\u001b[39m) \u001b[38;5;129;01mor\u001b[39;00m (\n\u001b[32m   1798\u001b[39m         \u001b[38;5;28mself\u001b[39m._jobs[\u001b[32m0\u001b[39m].get_status(timeout=\u001b[38;5;28mself\u001b[39m.timeout) == TASK_PENDING\n\u001b[32m   1799\u001b[39m     ):\n\u001b[32m-> \u001b[39m\u001b[32m1800\u001b[39m         time.sleep(\u001b[32m0.01\u001b[39m)\n\u001b[32m   1801\u001b[39m         \u001b[38;5;28;01mcontinue\u001b[39;00m\n\u001b[32m   1803\u001b[39m \u001b[38;5;28;01melif\u001b[39;00m nb_jobs == \u001b[32m0\u001b[39m:\n\u001b[32m   1804\u001b[39m     \u001b[38;5;66;03m# Case unordered: jobs are added to the list of jobs to\u001b[39;00m\n\u001b[32m   1805\u001b[39m     \u001b[38;5;66;03m# retrieve `self._jobs` only once completed or in error, which\u001b[39;00m\n\u001b[32m   (...)\u001b[39m\u001b[32m   1811\u001b[39m     \u001b[38;5;66;03m# timeouts before any other dispatched job has completed and\u001b[39;00m\n\u001b[32m   1812\u001b[39m     \u001b[38;5;66;03m# been added to `self._jobs` to be retrieved.\u001b[39;00m\n",
      "\u001b[31mKeyboardInterrupt\u001b[39m: "
     ]
    }
   ],
   "source": [
    "from sklearn.feature_extraction.text import CountVectorizer\n",
    "from sklearn.model_selection import GridSearchCV\n",
    "from sklearn.naive_bayes import MultinomialNB\n",
    "from sklearn.pipeline import Pipeline\n",
    "from sklearn.metrics import classification_report, confusion_matrix\n",
    "import joblib\n",
    "\n",
    "# === Target Labels ===\n",
    "y_train = df_train[\"label\"]\n",
    "y_test = df_test[\"label\"]\n",
    "X_train = df_train[\"clean_text\"]\n",
    "X_test = df_test[\"clean_text\"]\n",
    "\n",
    "# === Pipeline: CountVectorizer + MultinomialNB ===\n",
    "pipeline = Pipeline([\n",
    "    (\"vectorizer\", CountVectorizer()),\n",
    "    (\"classifier\", MultinomialNB())\n",
    "])\n",
    "\n",
    "# === Extended Hyperparameter Grid ===\n",
    "param_grid = {\n",
    "    \"vectorizer__ngram_range\": [(1, 1), (1, 2), (1, 3)],\n",
    "    \"vectorizer__min_df\": [1, 2, 3],\n",
    "    \"vectorizer__max_df\": [0.9, 0.95],\n",
    "    \"classifier__alpha\": [0.01, 0.1, 0.25, 0.5, 1.0]\n",
    "}\n",
    "\n",
    "# === Grid Search Setup ===\n",
    "grid_search = GridSearchCV(\n",
    "    pipeline,\n",
    "    param_grid,\n",
    "    cv=5,\n",
    "    scoring=\"f1_macro\",\n",
    "    verbose=2,\n",
    "    n_jobs=-1\n",
    ")\n",
    "\n",
    "# === Fit ===\n",
    "print(\"[+] Starting grid search...\")\n",
    "grid_search.fit(X_train, y_train)\n",
    "print(\"[+] Grid search completed.\")\n",
    "\n",
    "# === Results ===\n",
    "best_model = grid_search.best_estimator_\n",
    "print(\"[+] Best model parameters:\", grid_search.best_params_)\n",
    "\n",
    "# === Evaluation ===\n",
    "y_pred = best_model.predict(X_test)\n",
    "print(\"\\n[+] Classification Report:\\n\", classification_report(y_test, y_pred))\n",
    "print(\"[+] Confusion Matrix:\\n\", confusion_matrix(y_test, y_pred))\n",
    "\n",
    "# === Optional: Save the model\n",
    "joblib.dump(best_model, \"nb_final_model.joblib\")\n",
    "print(\"[+] Model saved to nb_final_model.joblib\")\n"
   ]
  },
  {
   "cell_type": "code",
   "execution_count": 6,
   "id": "eec22379",
   "metadata": {},
   "outputs": [
    {
     "data": {
      "image/png": "[encoded data removed]",
      "text/plain": [
       "<Figure size 640x480 with 2 Axes>"
      ]
     },
     "metadata": {},
     "output_type": "display_data"
    }
   ],
   "source": [
    "from sklearn.metrics import confusion_matrix, ConfusionMatrixDisplay\n",
    "import matplotlib.pyplot as plt\n",
    "\n",
    "# Compute the confusion matrix\n",
    "cm = confusion_matrix(y_test, y_pred)\n",
    "\n",
    "# Display the confusion matrix\n",
    "disp = ConfusionMatrixDisplay(confusion_matrix=cm, display_labels=[\"Negative\", \"Positive\"])\n",
    "disp.plot(cmap=\"Blues\", values_format=\"d\")\n",
    "\n",
    "plt.title(\"Confusion Matrix\")\n",
    "plt.show()"
   ]
  },
  {
   "cell_type": "code",
   "execution_count": null,
   "id": "8e3c8fb8",
   "metadata": {},
   "outputs": [
    {
     "name": "stdout",
     "output_type": "stream",
     "text": [
      "Model exported to skills_assessment.joblib\n"
     ]
    }
   ],
   "source": [
    "import joblib\n",
    "\n",
    "# Save the full pipeline (vectorizer + classifier)\n",
    "joblib.dump(best_model, \"fail.joblib\")\n",
    "print(\"Model exported to skills_assessment.joblib\")"
   ]
  },
  {
   "cell_type": "markdown",
   "id": "2ba6ac04",
   "metadata": {},
   "source": [
    "# 2"
   ]
  },
  {
   "cell_type": "code",
   "execution_count": 10,
   "id": "32341477",
   "metadata": {},
   "outputs": [],
   "source": [
    "from sklearn.feature_extraction.text import TfidfVectorizer\n",
    "from sklearn.linear_model import LogisticRegression\n",
    "from sklearn.pipeline import Pipeline\n",
    "from sklearn.model_selection import GridSearchCV\n",
    "from sklearn.metrics import classification_report\n",
    "\n",
    "X_train = df_train[\"clean_text\"]\n",
    "y_train = df_train[\"label\"]\n",
    "X_test = df_test[\"clean_text\"]\n",
    "y_test = df_test[\"label\"]"
   ]
  },
  {
   "cell_type": "code",
   "execution_count": 23,
   "id": "d561caea",
   "metadata": {},
   "outputs": [],
   "source": [
    "from sklearn.feature_extraction.text import TfidfVectorizer\n",
    "from sklearn.linear_model import LogisticRegression\n",
    "from sklearn.pipeline import Pipeline\n",
    "from sklearn.model_selection import GridSearchCV\n",
    "\n",
    "pipeline = Pipeline([\n",
    "    (\"vectorizer\", TfidfVectorizer(\n",
    "        sublinear_tf=True,           # Apply log-scaling to term frequency\n",
    "        stop_words=\"english\",        # Remove common English stop words\n",
    "        ngram_range=(1, 2),          # Default, will be overridden by GridSearch\n",
    "        min_df=1,                    # Default, will be overridden\n",
    "        max_df=0.95                  # Static value\n",
    "    )),\n",
    "    (\"classifier\", LogisticRegression(\n",
    "        max_iter=1000,\n",
    "        solver=\"liblinear\",          # Efficient for small/medium datasets\n",
    "        penalty=\"l2\"                 # Will test both l1/l2 via GridSearch\n",
    "    ))\n",
    "])\n",
    "\n",
    "param_grid = {\n",
    "    'classifier__C': [5, 10, 20],  # focus near best value\n",
    "    'vectorizer__min_df': [1],     # 1 is consistently better\n",
    "    'vectorizer__ngram_range': [(1, 1), (1, 2)]  # just to test simpler model\n",
    "}\n",
    "\n",
    "\n",
    "\n",
    "grid_search = GridSearchCV(\n",
    "    pipeline,\n",
    "    param_grid,\n",
    "    cv=5,\n",
    "    scoring=\"accuracy\",\n",
    "    n_jobs=-1,\n",
    "    verbose=2\n",
    ")"
   ]
  },
  {
   "cell_type": "code",
   "execution_count": 24,
   "id": "41a52cf9",
   "metadata": {},
   "outputs": [
    {
     "name": "stdout",
     "output_type": "stream",
     "text": [
      "[*] Starting grid search with cross-validation...\n",
      "Fitting 5 folds for each of 6 candidates, totalling 30 fits\n",
      "[CV] END classifier__C=5, vectorizer__min_df=1, vectorizer__ngram_range=(1, 1); total time=   3.7s\n",
      "[CV] END classifier__C=5, vectorizer__min_df=1, vectorizer__ngram_range=(1, 1); total time=   3.7s\n",
      "[CV] END classifier__C=5, vectorizer__min_df=1, vectorizer__ngram_range=(1, 1); total time=   3.8s\n",
      "[CV] END classifier__C=5, vectorizer__min_df=1, vectorizer__ngram_range=(1, 1); total time=   3.9s\n",
      "[CV] END classifier__C=5, vectorizer__min_df=1, vectorizer__ngram_range=(1, 1); total time=   3.9s\n",
      "[CV] END classifier__C=10, vectorizer__min_df=1, vectorizer__ngram_range=(1, 1); total time=   3.9s\n",
      "[CV] END classifier__C=10, vectorizer__min_df=1, vectorizer__ngram_range=(1, 1); total time=   4.0s\n",
      "[CV] END classifier__C=10, vectorizer__min_df=1, vectorizer__ngram_range=(1, 1); total time=   4.1s\n",
      "[CV] END classifier__C=10, vectorizer__min_df=1, vectorizer__ngram_range=(1, 1); total time=   4.1s\n",
      "[CV] END classifier__C=10, vectorizer__min_df=1, vectorizer__ngram_range=(1, 1); total time=   4.2s\n",
      "[CV] END classifier__C=20, vectorizer__min_df=1, vectorizer__ngram_range=(1, 1); total time=   4.5s\n",
      "[CV] END classifier__C=20, vectorizer__min_df=1, vectorizer__ngram_range=(1, 1); total time=   4.1s\n",
      "[CV] END classifier__C=20, vectorizer__min_df=1, vectorizer__ngram_range=(1, 1); total time=   4.4s\n",
      "[CV] END classifier__C=20, vectorizer__min_df=1, vectorizer__ngram_range=(1, 1); total time=   4.3s\n",
      "[CV] END classifier__C=20, vectorizer__min_df=1, vectorizer__ngram_range=(1, 1); total time=   4.6s\n",
      "[CV] END classifier__C=5, vectorizer__min_df=1, vectorizer__ngram_range=(1, 2); total time=  22.0s\n",
      "[CV] END classifier__C=5, vectorizer__min_df=1, vectorizer__ngram_range=(1, 2); total time=  22.3s\n",
      "[CV] END classifier__C=5, vectorizer__min_df=1, vectorizer__ngram_range=(1, 2); total time=  22.2s\n",
      "[CV] END classifier__C=5, vectorizer__min_df=1, vectorizer__ngram_range=(1, 2); total time=  23.1s\n",
      "[CV] END classifier__C=5, vectorizer__min_df=1, vectorizer__ngram_range=(1, 2); total time=  23.3s\n",
      "[CV] END classifier__C=10, vectorizer__min_df=1, vectorizer__ngram_range=(1, 2); total time=  24.5s\n",
      "[CV] END classifier__C=10, vectorizer__min_df=1, vectorizer__ngram_range=(1, 2); total time=  24.9s\n",
      "[CV] END classifier__C=10, vectorizer__min_df=1, vectorizer__ngram_range=(1, 2); total time=  25.3s\n",
      "[CV] END classifier__C=10, vectorizer__min_df=1, vectorizer__ngram_range=(1, 2); total time=  25.4s\n",
      "[CV] END classifier__C=10, vectorizer__min_df=1, vectorizer__ngram_range=(1, 2); total time=  25.4s\n",
      "[CV] END classifier__C=20, vectorizer__min_df=1, vectorizer__ngram_range=(1, 2); total time=  26.9s\n",
      "[CV] END classifier__C=20, vectorizer__min_df=1, vectorizer__ngram_range=(1, 2); total time=  25.6s\n",
      "[CV] END classifier__C=20, vectorizer__min_df=1, vectorizer__ngram_range=(1, 2); total time=  25.4s\n",
      "[CV] END classifier__C=20, vectorizer__min_df=1, vectorizer__ngram_range=(1, 2); total time=  25.6s\n",
      "[CV] END classifier__C=20, vectorizer__min_df=1, vectorizer__ngram_range=(1, 2); total time=  25.9s\n",
      "\n",
      "[+] Grid search completed.\n",
      "[+] Best parameters found: {'classifier__C': 10, 'vectorizer__min_df': 1, 'vectorizer__ngram_range': (1, 2)}\n",
      "[+] Best model pipeline stored.\n",
      "[+] Training accuracy: 0.9997\n",
      "\n",
      "[*] Evaluating on test data...\n",
      "\n",
      "[+] Classification Report:\n",
      "              precision    recall  f1-score   support\n",
      "\n",
      "           0       0.89      0.88      0.89     12500\n",
      "           1       0.88      0.89      0.89     12500\n",
      "\n",
      "    accuracy                           0.89     25000\n",
      "   macro avg       0.89      0.89      0.89     25000\n",
      "weighted avg       0.89      0.89      0.89     25000\n",
      "\n"
     ]
    }
   ],
   "source": [
    "from sklearn.model_selection import GridSearchCV\n",
    "from sklearn.metrics import classification_report\n",
    "\n",
    "# Start grid search\n",
    "print(\"[*] Starting grid search with cross-validation...\")\n",
    "\n",
    "grid_search.fit(X_train, y_train)\n",
    "\n",
    "# Output best parameters\n",
    "print(\"\\n[+] Grid search completed.\")\n",
    "print(f\"[+] Best parameters found: {grid_search.best_params_}\")\n",
    "\n",
    "# Extract and store best estimator\n",
    "best_model = grid_search.best_estimator_\n",
    "print(\"[+] Best model pipeline stored.\")\n",
    "\n",
    "# Optionally evaluate on training set (quick check)\n",
    "train_accuracy = best_model.score(X_train, y_train)\n",
    "print(f\"[+] Training accuracy: {train_accuracy:.4f}\")\n",
    "\n",
    "# Predict and evaluate on test set\n",
    "print(\"\\n[*] Evaluating on test data...\")\n",
    "y_pred = best_model.predict(X_test)\n",
    "print(\"\\n[+] Classification Report:\")\n",
    "print(classification_report(y_test, y_pred))\n"
   ]
  },
  {
   "cell_type": "code",
   "execution_count": 30,
   "id": "4e5a528c",
   "metadata": {},
   "outputs": [
    {
     "name": "stdout",
     "output_type": "stream",
     "text": [
      "[*] Training final model...\n",
      "[+] Training completed.\n",
      "[+] Model saved as skills_assessment.joblib\n",
      "\n",
      "[*] Evaluating on test data...\n",
      "\n",
      "[+] Classification Report:\n",
      "              precision    recall  f1-score   support\n",
      "\n",
      "           0       0.89      0.88      0.89     12500\n",
      "           1       0.89      0.89      0.89     12500\n",
      "\n",
      "    accuracy                           0.89     25000\n",
      "   macro avg       0.89      0.89      0.89     25000\n",
      "weighted avg       0.89      0.89      0.89     25000\n",
      "\n"
     ]
    }
   ],
   "source": [
    "import pandas as pd\n",
    "import joblib\n",
    "from sklearn.feature_extraction.text import TfidfVectorizer\n",
    "from sklearn.linear_model import LogisticRegression\n",
    "from sklearn.pipeline import Pipeline\n",
    "from sklearn.metrics import classification_report\n",
    "\n",
    "# Reuse preprocessed train/test sets and labels\n",
    "X_train = df_train[\"clean_text\"]\n",
    "y_train = df_train[\"label\"]\n",
    "X_test = df_test[\"clean_text\"]\n",
    "y_test = df_test[\"label\"]\n",
    "\n",
    "# Best pipeline configuration based on previous grid search\n",
    "best_pipeline = Pipeline([\n",
    "    (\"vectorizer\", TfidfVectorizer(ngram_range=(1, 2), min_df=1)),\n",
    "    (\"classifier\", LogisticRegression(C=10, max_iter=1000))\n",
    "])\n",
    "\n",
    "# Train the best model directly\n",
    "print(\"[*] Training final model...\")\n",
    "best_pipeline.fit(X_train, y_train)\n",
    "print(\"[+] Training completed.\")\n",
    "\n",
    "# Save model\n",
    "joblib.dump(best_pipeline, \"skills_assessment.joblib\")\n",
    "print(\"[+] Model saved as skills_assessment.joblib\")\n",
    "\n",
    "# Evaluate on test set\n",
    "print(\"\\n[*] Evaluating on test data...\")\n",
    "y_pred = best_pipeline.predict(X_test)\n",
    "print(\"\\n[+] Classification Report:\")\n",
    "print(classification_report(y_test, y_pred))\n"
   ]
  },
  {
   "cell_type": "code",
   "execution_count": null,
   "id": "a38779f6",
   "metadata": {},
   "outputs": [],
   "source": []
  },
  {
   "cell_type": "markdown",
   "id": "36c296e2",
   "metadata": {},
   "source": [
    "# 3"
   ]
  },
  {
   "cell_type": "code",
   "execution_count": null,
   "id": "59222ff5",
   "metadata": {},
   "outputs": [],
   "source": []
  }
 ],
 "metadata": {
  "kernelspec": {
   "display_name": "ai",
   "language": "python",
   "name": "python3"
  },
  "language_info": {
   "codemirror_mode": {
    "name": "ipython",
    "version": 3
   },
   "file_extension": ".py",
   "mimetype": "text/x-python",
   "name": "python",
   "nbconvert_exporter": "python",
   "pygments_lexer": "ipython3",
   "version": "3.11.13"
  }
 },
 "nbformat": 4,
 "nbformat_minor": 5
}
